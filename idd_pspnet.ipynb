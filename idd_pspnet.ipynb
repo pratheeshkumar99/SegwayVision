{
  "nbformat": 4,
  "nbformat_minor": 0,
  "metadata": {
    "colab": {
      "name": "idd pspnet.ipynb",
      "provenance": [],
      "collapsed_sections": [],
      "machine_shape": "hm",
      "include_colab_link": true
    },
    "kernelspec": {
      "name": "python3",
      "display_name": "Python 3"
    },
    "accelerator": "GPU"
  },
  "cells": [
    {
      "cell_type": "markdown",
      "metadata": {
        "id": "view-in-github",
        "colab_type": "text"
      },
      "source": [
        "<a href=\"https://colab.research.google.com/github/SaumyaGupta-99/Semantic-Segmentation-of-Images/blob/main/idd_pspnet.ipynb\" target=\"_parent\"><img src=\"https://colab.research.google.com/assets/colab-badge.svg\" alt=\"Open In Colab\"/></a>"
      ]
    },
    {
      "cell_type": "code",
      "metadata": {
        "id": "ZlmbzktdvjZU",
        "colab": {
          "base_uri": "https://localhost:8080/",
          "height": 445
        },
        "outputId": "a7463027-88f0-410b-c6f8-e79dbaebc14b"
      },
      "source": [
        "! pip install -U --pre segmentation-models"
      ],
      "execution_count": null,
      "outputs": [
        {
          "output_type": "stream",
          "text": [
            "Collecting segmentation-models\n",
            "  Downloading https://files.pythonhosted.org/packages/da/b9/4a183518c21689a56b834eaaa45cad242d9ec09a4360b5b10139f23c63f4/segmentation_models-1.0.1-py3-none-any.whl\n",
            "Collecting image-classifiers==1.0.0\n",
            "  Downloading https://files.pythonhosted.org/packages/81/98/6f84720e299a4942ab80df5f76ab97b7828b24d1de5e9b2cbbe6073228b7/image_classifiers-1.0.0-py3-none-any.whl\n",
            "Collecting efficientnet==1.0.0\n",
            "  Downloading https://files.pythonhosted.org/packages/97/82/f3ae07316f0461417dc54affab6e86ab188a5a22f33176d35271628b96e0/efficientnet-1.0.0-py3-none-any.whl\n",
            "Requirement already satisfied, skipping upgrade: keras-applications<=1.0.8,>=1.0.7 in /usr/local/lib/python3.6/dist-packages (from segmentation-models) (1.0.8)\n",
            "Requirement already satisfied, skipping upgrade: scikit-image in /usr/local/lib/python3.6/dist-packages (from efficientnet==1.0.0->segmentation-models) (0.16.2)\n",
            "Requirement already satisfied, skipping upgrade: h5py in /usr/local/lib/python3.6/dist-packages (from keras-applications<=1.0.8,>=1.0.7->segmentation-models) (2.10.0)\n",
            "Requirement already satisfied, skipping upgrade: numpy>=1.9.1 in /usr/local/lib/python3.6/dist-packages (from keras-applications<=1.0.8,>=1.0.7->segmentation-models) (1.18.4)\n",
            "Requirement already satisfied, skipping upgrade: networkx>=2.0 in /usr/local/lib/python3.6/dist-packages (from scikit-image->efficientnet==1.0.0->segmentation-models) (2.4)\n",
            "Requirement already satisfied, skipping upgrade: matplotlib!=3.0.0,>=2.0.0 in /usr/local/lib/python3.6/dist-packages (from scikit-image->efficientnet==1.0.0->segmentation-models) (3.2.1)\n",
            "Requirement already satisfied, skipping upgrade: pillow>=4.3.0 in /usr/local/lib/python3.6/dist-packages (from scikit-image->efficientnet==1.0.0->segmentation-models) (7.0.0)\n",
            "Requirement already satisfied, skipping upgrade: scipy>=0.19.0 in /usr/local/lib/python3.6/dist-packages (from scikit-image->efficientnet==1.0.0->segmentation-models) (1.4.1)\n",
            "Requirement already satisfied, skipping upgrade: PyWavelets>=0.4.0 in /usr/local/lib/python3.6/dist-packages (from scikit-image->efficientnet==1.0.0->segmentation-models) (1.1.1)\n",
            "Requirement already satisfied, skipping upgrade: imageio>=2.3.0 in /usr/local/lib/python3.6/dist-packages (from scikit-image->efficientnet==1.0.0->segmentation-models) (2.4.1)\n",
            "Requirement already satisfied, skipping upgrade: six in /usr/local/lib/python3.6/dist-packages (from h5py->keras-applications<=1.0.8,>=1.0.7->segmentation-models) (1.12.0)\n",
            "Requirement already satisfied, skipping upgrade: decorator>=4.3.0 in /usr/local/lib/python3.6/dist-packages (from networkx>=2.0->scikit-image->efficientnet==1.0.0->segmentation-models) (4.4.2)\n",
            "Requirement already satisfied, skipping upgrade: python-dateutil>=2.1 in /usr/local/lib/python3.6/dist-packages (from matplotlib!=3.0.0,>=2.0.0->scikit-image->efficientnet==1.0.0->segmentation-models) (2.8.1)\n",
            "Requirement already satisfied, skipping upgrade: pyparsing!=2.0.4,!=2.1.2,!=2.1.6,>=2.0.1 in /usr/local/lib/python3.6/dist-packages (from matplotlib!=3.0.0,>=2.0.0->scikit-image->efficientnet==1.0.0->segmentation-models) (2.4.7)\n",
            "Requirement already satisfied, skipping upgrade: kiwisolver>=1.0.1 in /usr/local/lib/python3.6/dist-packages (from matplotlib!=3.0.0,>=2.0.0->scikit-image->efficientnet==1.0.0->segmentation-models) (1.2.0)\n",
            "Requirement already satisfied, skipping upgrade: cycler>=0.10 in /usr/local/lib/python3.6/dist-packages (from matplotlib!=3.0.0,>=2.0.0->scikit-image->efficientnet==1.0.0->segmentation-models) (0.10.0)\n",
            "Installing collected packages: image-classifiers, efficientnet, segmentation-models\n",
            "Successfully installed efficientnet-1.0.0 image-classifiers-1.0.0 segmentation-models-1.0.1\n"
          ],
          "name": "stdout"
        }
      ]
    },
    {
      "cell_type": "code",
      "metadata": {
        "id": "QXH_CL9sFCUg"
      },
      "source": [
        "import segmentation_models as sm\n",
        "BACKBONE = 'resnet34'\n",
        "preprocess_input = sm.get_preprocessing(BACKBONE)"
      ],
      "execution_count": null,
      "outputs": []
    },
    {
      "cell_type": "markdown",
      "metadata": {
        "id": "oMK-mWB92Rdk"
      },
      "source": [
        ""
      ]
    },
    {
      "cell_type": "code",
      "metadata": {
        "id": "DDf4rXPBFhVx",
        "colab": {
          "base_uri": "https://localhost:8080/",
          "height": 136
        },
        "outputId": "0a24d8b3-560a-4011-87ae-ea36ce0630aa"
      },
      "source": [
        "!git clone https://github.com/mohanrajmit/IDD.git"
      ],
      "execution_count": null,
      "outputs": [
        {
          "output_type": "stream",
          "text": [
            "Cloning into 'IDD'...\n",
            "remote: Enumerating objects: 4891, done.\u001b[K\n",
            "remote: Counting objects: 100% (4891/4891), done.\u001b[K\n",
            "remote: Compressing objects: 100% (4503/4503), done.\u001b[K\n",
            "remote: Total 4891 (delta 225), reused 4767 (delta 125), pack-reused 0\u001b[K\n",
            "Receiving objects: 100% (4891/4891), 28.67 MiB | 10.44 MiB/s, done.\n",
            "Resolving deltas: 100% (225/225), done.\n"
          ],
          "name": "stdout"
        }
      ]
    },
    {
      "cell_type": "code",
      "metadata": {
        "id": "Up79hzgf2SZx"
      },
      "source": [
        "import cv2\n",
        "from imutils import paths\n",
        "import numpy as np\n",
        "labels_path = paths.list_images(\"/content/IDD/idd20k_lite/gtFine\")\n",
        "labels_path = sorted(labels_path)"
      ],
      "execution_count": null,
      "outputs": []
    },
    {
      "cell_type": "code",
      "metadata": {
        "id": "aG38HHAFNNlg"
      },
      "source": [
        "def binarylab(labels_name):\n",
        "  x = np.zeros([240,240,8])\n",
        "  for i in range(240):\n",
        "    for j in range(240):      \n",
        "      if (labels_name[i][j]==255):\n",
        "        x[i,j,7]=1\n",
        "      else:\n",
        "        x[i,j,labels_name[i][j]]=1\n",
        "\n",
        "  return x"
      ],
      "execution_count": null,
      "outputs": []
    },
    {
      "cell_type": "code",
      "metadata": {
        "id": "QKgY2fzBb6mh"
      },
      "source": [
        "train_labels = []\n",
        "val_labels = []\n",
        "train_labels_conv = []\n",
        "val_labels_conv = []\n",
        "import numpy as np\n",
        "for imagePath in labels_path:\n",
        "  make = imagePath.split(\"/\")[-3]\n",
        "  image = cv2.imread(imagePath)\n",
        "  image = cv2.resize(image,(240,240),interpolation =cv2.INTER_NEAREST)\n",
        "  b,g,r = cv2.split(image)\n",
        "  binary_label = binarylab(r)\n",
        "  if make == \"train\":\n",
        "    train_labels.append(image)\n",
        "    train_labels_conv.append(binary_label)\n",
        "  else:\n",
        "    val_labels.append(image)\n",
        "    val_labels_conv.append(binary_label)\n",
        " "
      ],
      "execution_count": null,
      "outputs": []
    },
    {
      "cell_type": "code",
      "metadata": {
        "id": "zKpbcZ1SVm9W",
        "colab": {
          "base_uri": "https://localhost:8080/",
          "height": 85
        },
        "outputId": "8573b065-c8ca-4628-d8c3-f25fb4a8ae5a"
      },
      "source": [
        "train_labels = np.array(train_labels)\n",
        "val_labels = np.array(val_labels)\n",
        "train_labels_conv = np.array(train_labels_conv)\n",
        "val_labels_conv = np.array(val_labels_conv)\n",
        "print(train_labels.shape)\n",
        "print(train_labels_conv.shape)\n",
        "print(val_labels.shape)\n",
        "print(val_labels_conv.shape)"
      ],
      "execution_count": null,
      "outputs": [
        {
          "output_type": "stream",
          "text": [
            "(1403, 240, 240, 3)\n",
            "(1403, 240, 240, 8)\n",
            "(204, 240, 240, 3)\n",
            "(204, 240, 240, 8)\n"
          ],
          "name": "stdout"
        }
      ]
    },
    {
      "cell_type": "code",
      "metadata": {
        "id": "_fqAbafCcI-8",
        "colab": {
          "base_uri": "https://localhost:8080/",
          "height": 68
        },
        "outputId": "50353805-61a4-4db0-c250-0be86ab059fb"
      },
      "source": [
        "images_path=paths.list_images(\"/content/IDD/idd20k_lite/leftImg8bit\")\n",
        "images_path=sorted(images_path)\n",
        "train_images = []\n",
        "val_images = []\n",
        "test_images = []\n",
        "import numpy as np\n",
        "for imagePath in images_path:\n",
        "  #print(imagePath)\n",
        "  make = imagePath.split(\"/\")[-3]\n",
        "  #print(make)\n",
        "  image = cv2.imread(imagePath)\n",
        "  image = cv2.resize(image,(240,240),interpolation=cv2.INTER_NEAREST)\n",
        "  if make == \"train\":\n",
        "    train_images.append(image)\n",
        "  elif make == \"test\":\n",
        "    test_images.append(image)\n",
        "  else:\n",
        "    val_images.append(image)\n",
        "train_images = np.array(train_images)\n",
        "val_images = np.array(val_images)\n",
        "test_images = np.array(test_images)\n",
        "print(train_images.shape)\n",
        "print(test_images.shape)\n",
        "print(val_images.shape)"
      ],
      "execution_count": null,
      "outputs": [
        {
          "output_type": "stream",
          "text": [
            "(1403, 240, 240, 3)\n",
            "(404, 240, 240, 3)\n",
            "(204, 240, 240, 3)\n"
          ],
          "name": "stdout"
        }
      ]
    },
    {
      "cell_type": "code",
      "metadata": {
        "id": "Ti3susEAJ-2o"
      },
      "source": [
        "x_train = preprocess_input(train_images)\n",
        "x_val = preprocess_input(val_images)"
      ],
      "execution_count": null,
      "outputs": []
    },
    {
      "cell_type": "code",
      "metadata": {
        "id": "HFDONio_51Ah"
      },
      "source": [
        "y_train = preprocess_input(train_labels_conv)\n",
        "y_val = preprocess_input(val_labels_conv)"
      ],
      "execution_count": null,
      "outputs": []
    },
    {
      "cell_type": "code",
      "metadata": {
        "id": "DV3ZQmXWKVf4"
      },
      "source": [
        "from keras import backend as K\n",
        "def dice_coef(y_true, y_pred, smooth=1):\n",
        "  intersection = K.sum(y_true * y_pred, axis=[1,2,3])\n",
        "  union = K.sum(y_true, axis=[1,2,3]) + K.sum(y_pred, axis=[1,2,3])\n",
        "  dice = K.mean((2. * intersection + smooth)/(union + smooth), axis=0)\n",
        "  return dice\n",
        "\n",
        "def iou_coef(y_true, y_pred, smooth=1):\n",
        "  intersection = K.sum(K.abs(y_true * y_pred), axis=[1,2,3])\n",
        "  union = K.sum(y_true,[1,2,3])+K.sum(y_pred,[1,2,3])-intersection\n",
        "  iou = K.mean((intersection + smooth) / (union + smooth), axis=0)\n",
        "  return iou"
      ],
      "execution_count": null,
      "outputs": []
    },
    {
      "cell_type": "code",
      "metadata": {
        "id": "OtNaKk7Kd1Dp",
        "colab": {
          "base_uri": "https://localhost:8080/",
          "height": 1000
        },
        "outputId": "8e206109-32bb-4ffd-9c22-fa23b269e0ce"
      },
      "source": [
        "print(x_train)"
      ],
      "execution_count": null,
      "outputs": [
        {
          "output_type": "stream",
          "text": [
            "[[[[248 230 201]\n",
            "   [248 232 203]\n",
            "   [239 222 195]\n",
            "   ...\n",
            "   [255 255 231]\n",
            "   [255 254 231]\n",
            "   [255 253 231]]\n",
            "\n",
            "  [[248 230 201]\n",
            "   [248 232 203]\n",
            "   [239 222 195]\n",
            "   ...\n",
            "   [255 255 231]\n",
            "   [255 254 231]\n",
            "   [255 253 231]]\n",
            "\n",
            "  [[255 237 212]\n",
            "   [253 236 210]\n",
            "   [246 231 205]\n",
            "   ...\n",
            "   [255 255 231]\n",
            "   [255 254 231]\n",
            "   [255 253 231]]\n",
            "\n",
            "  ...\n",
            "\n",
            "  [[255 239 255]\n",
            "   [255 237 255]\n",
            "   [255 237 255]\n",
            "   ...\n",
            "   [ 19  21  15]\n",
            "   [ 19  21  15]\n",
            "   [ 19  21  15]]\n",
            "\n",
            "  [[255 239 255]\n",
            "   [255 236 255]\n",
            "   [254 236 253]\n",
            "   ...\n",
            "   [ 19  21  15]\n",
            "   [ 19  21  15]\n",
            "   [ 19  21  15]]\n",
            "\n",
            "  [[255 240 255]\n",
            "   [253 234 253]\n",
            "   [250 232 249]\n",
            "   ...\n",
            "   [ 19  21  15]\n",
            "   [ 19  21  15]\n",
            "   [ 19  21  15]]]\n",
            "\n",
            "\n",
            " [[[ 11  19  18]\n",
            "   [ 10  18  17]\n",
            "   [ 11  19  18]\n",
            "   ...\n",
            "   [ 61  70  74]\n",
            "   [ 64  73  77]\n",
            "   [ 61  70  74]]\n",
            "\n",
            "  [[ 11  19  18]\n",
            "   [ 10  18  17]\n",
            "   [ 11  19  18]\n",
            "   ...\n",
            "   [ 61  70  74]\n",
            "   [ 64  73  77]\n",
            "   [ 61  70  74]]\n",
            "\n",
            "  [[ 14  22  21]\n",
            "   [ 13  21  20]\n",
            "   [ 15  23  22]\n",
            "   ...\n",
            "   [ 61  70  74]\n",
            "   [ 66  75  79]\n",
            "   [ 65  74  78]]\n",
            "\n",
            "  ...\n",
            "\n",
            "  [[197 170 209]\n",
            "   [203 176 215]\n",
            "   [206 180 216]\n",
            "   ...\n",
            "   [146 127 146]\n",
            "   [152 133 150]\n",
            "   [160 139 154]]\n",
            "\n",
            "  [[192 165 205]\n",
            "   [197 170 210]\n",
            "   [202 175 214]\n",
            "   ...\n",
            "   [157 137 156]\n",
            "   [166 145 160]\n",
            "   [176 150 166]]\n",
            "\n",
            "  [[182 155 195]\n",
            "   [186 159 199]\n",
            "   [189 162 201]\n",
            "   ...\n",
            "   [157 137 156]\n",
            "   [162 141 156]\n",
            "   [167 141 157]]]\n",
            "\n",
            "\n",
            " [[[243 226 213]\n",
            "   [234 217 204]\n",
            "   [223 206 193]\n",
            "   ...\n",
            "   [192 179 171]\n",
            "   [151 138 130]\n",
            "   [165 152 144]]\n",
            "\n",
            "  [[243 226 213]\n",
            "   [234 217 204]\n",
            "   [223 206 193]\n",
            "   ...\n",
            "   [192 179 171]\n",
            "   [151 138 130]\n",
            "   [165 152 144]]\n",
            "\n",
            "  [[252 235 222]\n",
            "   [246 229 216]\n",
            "   [236 219 206]\n",
            "   ...\n",
            "   [164 154 147]\n",
            "   [111 102  93]\n",
            "   [125 115 108]]\n",
            "\n",
            "  ...\n",
            "\n",
            "  [[105 117 119]\n",
            "   [103 115 117]\n",
            "   [101 113 115]\n",
            "   ...\n",
            "   [113 129 142]\n",
            "   [115 131 143]\n",
            "   [123 139 152]]\n",
            "\n",
            "  [[105 117 119]\n",
            "   [103 115 117]\n",
            "   [101 113 115]\n",
            "   ...\n",
            "   [117 131 143]\n",
            "   [119 133 145]\n",
            "   [124 138 150]]\n",
            "\n",
            "  [[105 117 119]\n",
            "   [103 115 117]\n",
            "   [101 113 115]\n",
            "   ...\n",
            "   [121 135 147]\n",
            "   [122 136 148]\n",
            "   [122 136 148]]]\n",
            "\n",
            "\n",
            " ...\n",
            "\n",
            "\n",
            " [[[181 181 169]\n",
            "   [182 182 170]\n",
            "   [182 182 170]\n",
            "   ...\n",
            "   [ 49  73  73]\n",
            "   [ 51  79  79]\n",
            "   [ 59  87  88]]\n",
            "\n",
            "  [[181 181 169]\n",
            "   [182 182 170]\n",
            "   [182 182 170]\n",
            "   ...\n",
            "   [ 49  73  73]\n",
            "   [ 51  79  79]\n",
            "   [ 59  87  88]]\n",
            "\n",
            "  [[181 181 169]\n",
            "   [181 181 169]\n",
            "   [181 181 169]\n",
            "   ...\n",
            "   [ 50  74  74]\n",
            "   [ 52  80  80]\n",
            "   [ 60  88  89]]\n",
            "\n",
            "  ...\n",
            "\n",
            "  [[123 159 167]\n",
            "   [123 159 167]\n",
            "   [127 163 171]\n",
            "   ...\n",
            "   [ 60  58  57]\n",
            "   [ 61  59  58]\n",
            "   [ 63  61  60]]\n",
            "\n",
            "  [[129 162 171]\n",
            "   [130 163 172]\n",
            "   [134 167 176]\n",
            "   ...\n",
            "   [ 60  58  57]\n",
            "   [ 61  59  58]\n",
            "   [ 63  61  60]]\n",
            "\n",
            "  [[133 166 175]\n",
            "   [135 168 177]\n",
            "   [139 172 181]\n",
            "   ...\n",
            "   [ 60  58  57]\n",
            "   [ 60  58  57]\n",
            "   [ 63  61  60]]]\n",
            "\n",
            "\n",
            " [[[252 246 247]\n",
            "   [255 253 254]\n",
            "   [255 254 255]\n",
            "   ...\n",
            "   [135 126 117]\n",
            "   [136 127 118]\n",
            "   [138 127 119]]\n",
            "\n",
            "  [[252 246 247]\n",
            "   [255 253 254]\n",
            "   [255 254 255]\n",
            "   ...\n",
            "   [135 126 117]\n",
            "   [136 127 118]\n",
            "   [138 127 119]]\n",
            "\n",
            "  [[255 254 255]\n",
            "   [255 252 253]\n",
            "   [253 247 248]\n",
            "   ...\n",
            "   [133 124 115]\n",
            "   [128 119 110]\n",
            "   [129 118 110]]\n",
            "\n",
            "  ...\n",
            "\n",
            "  [[ 51  56  54]\n",
            "   [ 52  57  55]\n",
            "   [ 54  59  57]\n",
            "   ...\n",
            "   [ 75  77  77]\n",
            "   [ 76  78  78]\n",
            "   [ 76  78  78]]\n",
            "\n",
            "  [[ 52  57  55]\n",
            "   [ 53  58  56]\n",
            "   [ 55  60  58]\n",
            "   ...\n",
            "   [ 75  77  77]\n",
            "   [ 76  78  78]\n",
            "   [ 76  78  78]]\n",
            "\n",
            "  [[ 53  58  56]\n",
            "   [ 54  59  57]\n",
            "   [ 56  61  59]\n",
            "   ...\n",
            "   [ 75  77  77]\n",
            "   [ 76  78  78]\n",
            "   [ 76  78  78]]]\n",
            "\n",
            "\n",
            " [[[238 231 211]\n",
            "   [236 229 209]\n",
            "   [233 226 206]\n",
            "   ...\n",
            "   [ 79  74  75]\n",
            "   [110 105 106]\n",
            "   [ 46  41  42]]\n",
            "\n",
            "  [[238 231 211]\n",
            "   [236 229 209]\n",
            "   [233 226 206]\n",
            "   ...\n",
            "   [ 79  74  75]\n",
            "   [110 105 106]\n",
            "   [ 46  41  42]]\n",
            "\n",
            "  [[224 217 198]\n",
            "   [221 214 194]\n",
            "   [217 210 191]\n",
            "   ...\n",
            "   [ 83  78  79]\n",
            "   [105 100 101]\n",
            "   [ 47  42  43]]\n",
            "\n",
            "  ...\n",
            "\n",
            "  [[124 135 132]\n",
            "   [124 135 132]\n",
            "   [115 126 123]\n",
            "   ...\n",
            "   [ 97  99  99]\n",
            "   [ 98 100 100]\n",
            "   [ 99 101 101]]\n",
            "\n",
            "  [[119 130 128]\n",
            "   [111 122 120]\n",
            "   [ 95 106 104]\n",
            "   ...\n",
            "   [ 97  99  99]\n",
            "   [ 98 100 100]\n",
            "   [ 99 101 101]]\n",
            "\n",
            "  [[116 127 125]\n",
            "   [ 98 109 107]\n",
            "   [ 75  86  84]\n",
            "   ...\n",
            "   [ 96  98  98]\n",
            "   [ 97  99  99]\n",
            "   [ 99 101 101]]]]\n"
          ],
          "name": "stdout"
        }
      ]
    },
    {
      "cell_type": "code",
      "metadata": {
        "id": "wK3U2d1mR_0g"
      },
      "source": [
        "%load_ext tensorboard"
      ],
      "execution_count": null,
      "outputs": []
    },
    {
      "cell_type": "code",
      "metadata": {
        "id": "P9nac2QxXxwK",
        "colab": {
          "base_uri": "https://localhost:8080/",
          "height": 536
        },
        "outputId": "55cceedb-02e6-457b-c819-dd0051f66ad6"
      },
      "source": [
        "from google.colab import drive\n",
        "drive.mount('/content/drive')"
      ],
      "execution_count": null,
      "outputs": [
        {
          "output_type": "error",
          "ename": "KeyboardInterrupt",
          "evalue": "ignored",
          "traceback": [
            "\u001b[0;31m---------------------------------------------------------------------------\u001b[0m",
            "\u001b[0;31mKeyboardInterrupt\u001b[0m                         Traceback (most recent call last)",
            "\u001b[0;32m/usr/local/lib/python3.6/dist-packages/ipykernel/kernelbase.py\u001b[0m in \u001b[0;36m_input_request\u001b[0;34m(self, prompt, ident, parent, password)\u001b[0m\n\u001b[1;32m    728\u001b[0m             \u001b[0;32mtry\u001b[0m\u001b[0;34m:\u001b[0m\u001b[0;34m\u001b[0m\u001b[0;34m\u001b[0m\u001b[0m\n\u001b[0;32m--> 729\u001b[0;31m                 \u001b[0mident\u001b[0m\u001b[0;34m,\u001b[0m \u001b[0mreply\u001b[0m \u001b[0;34m=\u001b[0m \u001b[0mself\u001b[0m\u001b[0;34m.\u001b[0m\u001b[0msession\u001b[0m\u001b[0;34m.\u001b[0m\u001b[0mrecv\u001b[0m\u001b[0;34m(\u001b[0m\u001b[0mself\u001b[0m\u001b[0;34m.\u001b[0m\u001b[0mstdin_socket\u001b[0m\u001b[0;34m,\u001b[0m \u001b[0;36m0\u001b[0m\u001b[0;34m)\u001b[0m\u001b[0;34m\u001b[0m\u001b[0;34m\u001b[0m\u001b[0m\n\u001b[0m\u001b[1;32m    730\u001b[0m             \u001b[0;32mexcept\u001b[0m \u001b[0mException\u001b[0m\u001b[0;34m:\u001b[0m\u001b[0;34m\u001b[0m\u001b[0;34m\u001b[0m\u001b[0m\n",
            "\u001b[0;32m/usr/local/lib/python3.6/dist-packages/jupyter_client/session.py\u001b[0m in \u001b[0;36mrecv\u001b[0;34m(self, socket, mode, content, copy)\u001b[0m\n\u001b[1;32m    802\u001b[0m         \u001b[0;32mtry\u001b[0m\u001b[0;34m:\u001b[0m\u001b[0;34m\u001b[0m\u001b[0;34m\u001b[0m\u001b[0m\n\u001b[0;32m--> 803\u001b[0;31m             \u001b[0mmsg_list\u001b[0m \u001b[0;34m=\u001b[0m \u001b[0msocket\u001b[0m\u001b[0;34m.\u001b[0m\u001b[0mrecv_multipart\u001b[0m\u001b[0;34m(\u001b[0m\u001b[0mmode\u001b[0m\u001b[0;34m,\u001b[0m \u001b[0mcopy\u001b[0m\u001b[0;34m=\u001b[0m\u001b[0mcopy\u001b[0m\u001b[0;34m)\u001b[0m\u001b[0;34m\u001b[0m\u001b[0;34m\u001b[0m\u001b[0m\n\u001b[0m\u001b[1;32m    804\u001b[0m         \u001b[0;32mexcept\u001b[0m \u001b[0mzmq\u001b[0m\u001b[0;34m.\u001b[0m\u001b[0mZMQError\u001b[0m \u001b[0;32mas\u001b[0m \u001b[0me\u001b[0m\u001b[0;34m:\u001b[0m\u001b[0;34m\u001b[0m\u001b[0;34m\u001b[0m\u001b[0m\n",
            "\u001b[0;32m/usr/local/lib/python3.6/dist-packages/zmq/sugar/socket.py\u001b[0m in \u001b[0;36mrecv_multipart\u001b[0;34m(self, flags, copy, track)\u001b[0m\n\u001b[1;32m    474\u001b[0m         \"\"\"\n\u001b[0;32m--> 475\u001b[0;31m         \u001b[0mparts\u001b[0m \u001b[0;34m=\u001b[0m \u001b[0;34m[\u001b[0m\u001b[0mself\u001b[0m\u001b[0;34m.\u001b[0m\u001b[0mrecv\u001b[0m\u001b[0;34m(\u001b[0m\u001b[0mflags\u001b[0m\u001b[0;34m,\u001b[0m \u001b[0mcopy\u001b[0m\u001b[0;34m=\u001b[0m\u001b[0mcopy\u001b[0m\u001b[0;34m,\u001b[0m \u001b[0mtrack\u001b[0m\u001b[0;34m=\u001b[0m\u001b[0mtrack\u001b[0m\u001b[0;34m)\u001b[0m\u001b[0;34m]\u001b[0m\u001b[0;34m\u001b[0m\u001b[0;34m\u001b[0m\u001b[0m\n\u001b[0m\u001b[1;32m    476\u001b[0m         \u001b[0;31m# have first part already, only loop while more to receive\u001b[0m\u001b[0;34m\u001b[0m\u001b[0;34m\u001b[0m\u001b[0;34m\u001b[0m\u001b[0m\n",
            "\u001b[0;32mzmq/backend/cython/socket.pyx\u001b[0m in \u001b[0;36mzmq.backend.cython.socket.Socket.recv\u001b[0;34m()\u001b[0m\n",
            "\u001b[0;32mzmq/backend/cython/socket.pyx\u001b[0m in \u001b[0;36mzmq.backend.cython.socket.Socket.recv\u001b[0;34m()\u001b[0m\n",
            "\u001b[0;32mzmq/backend/cython/socket.pyx\u001b[0m in \u001b[0;36mzmq.backend.cython.socket._recv_copy\u001b[0;34m()\u001b[0m\n",
            "\u001b[0;32m/usr/local/lib/python3.6/dist-packages/zmq/backend/cython/checkrc.pxd\u001b[0m in \u001b[0;36mzmq.backend.cython.checkrc._check_rc\u001b[0;34m()\u001b[0m\n",
            "\u001b[0;31mKeyboardInterrupt\u001b[0m: ",
            "\nDuring handling of the above exception, another exception occurred:\n",
            "\u001b[0;31mKeyboardInterrupt\u001b[0m                         Traceback (most recent call last)",
            "\u001b[0;32m<ipython-input-14-d5df0069828e>\u001b[0m in \u001b[0;36m<module>\u001b[0;34m()\u001b[0m\n\u001b[1;32m      1\u001b[0m \u001b[0;32mfrom\u001b[0m \u001b[0mgoogle\u001b[0m\u001b[0;34m.\u001b[0m\u001b[0mcolab\u001b[0m \u001b[0;32mimport\u001b[0m \u001b[0mdrive\u001b[0m\u001b[0;34m\u001b[0m\u001b[0;34m\u001b[0m\u001b[0m\n\u001b[0;32m----> 2\u001b[0;31m \u001b[0mdrive\u001b[0m\u001b[0;34m.\u001b[0m\u001b[0mmount\u001b[0m\u001b[0;34m(\u001b[0m\u001b[0;34m'/content/drive'\u001b[0m\u001b[0;34m)\u001b[0m\u001b[0;34m\u001b[0m\u001b[0;34m\u001b[0m\u001b[0m\n\u001b[0m",
            "\u001b[0;32m/usr/local/lib/python3.6/dist-packages/google/colab/drive.py\u001b[0m in \u001b[0;36mmount\u001b[0;34m(mountpoint, force_remount, timeout_ms, use_metadata_server)\u001b[0m\n\u001b[1;32m    240\u001b[0m       \u001b[0mauth_prompt\u001b[0m \u001b[0;34m=\u001b[0m \u001b[0md\u001b[0m\u001b[0;34m.\u001b[0m\u001b[0mmatch\u001b[0m\u001b[0;34m.\u001b[0m\u001b[0mgroup\u001b[0m\u001b[0;34m(\u001b[0m\u001b[0;36m1\u001b[0m\u001b[0;34m)\u001b[0m \u001b[0;34m+\u001b[0m \u001b[0;34m'\\nEnter your authorization code:\\n'\u001b[0m\u001b[0;34m\u001b[0m\u001b[0;34m\u001b[0m\u001b[0m\n\u001b[1;32m    241\u001b[0m       \u001b[0;32mwith\u001b[0m \u001b[0mopen\u001b[0m\u001b[0;34m(\u001b[0m\u001b[0mfifo\u001b[0m\u001b[0;34m,\u001b[0m \u001b[0;34m'w'\u001b[0m\u001b[0;34m)\u001b[0m \u001b[0;32mas\u001b[0m \u001b[0mfifo_file\u001b[0m\u001b[0;34m:\u001b[0m\u001b[0;34m\u001b[0m\u001b[0;34m\u001b[0m\u001b[0m\n\u001b[0;32m--> 242\u001b[0;31m         \u001b[0mfifo_file\u001b[0m\u001b[0;34m.\u001b[0m\u001b[0mwrite\u001b[0m\u001b[0;34m(\u001b[0m\u001b[0m_getpass\u001b[0m\u001b[0;34m.\u001b[0m\u001b[0mgetpass\u001b[0m\u001b[0;34m(\u001b[0m\u001b[0mauth_prompt\u001b[0m\u001b[0;34m)\u001b[0m \u001b[0;34m+\u001b[0m \u001b[0;34m'\\n'\u001b[0m\u001b[0;34m)\u001b[0m\u001b[0;34m\u001b[0m\u001b[0;34m\u001b[0m\u001b[0m\n\u001b[0m\u001b[1;32m    243\u001b[0m       \u001b[0mwrote_to_fifo\u001b[0m \u001b[0;34m=\u001b[0m \u001b[0;32mTrue\u001b[0m\u001b[0;34m\u001b[0m\u001b[0;34m\u001b[0m\u001b[0m\n\u001b[1;32m    244\u001b[0m   \u001b[0;32mif\u001b[0m \u001b[0;32mnot\u001b[0m \u001b[0mwrote_to_fifo\u001b[0m\u001b[0;34m:\u001b[0m\u001b[0;34m\u001b[0m\u001b[0;34m\u001b[0m\u001b[0m\n",
            "\u001b[0;32m/usr/local/lib/python3.6/dist-packages/ipykernel/kernelbase.py\u001b[0m in \u001b[0;36mgetpass\u001b[0;34m(self, prompt, stream)\u001b[0m\n\u001b[1;32m    685\u001b[0m             \u001b[0mself\u001b[0m\u001b[0;34m.\u001b[0m\u001b[0m_parent_ident\u001b[0m\u001b[0;34m,\u001b[0m\u001b[0;34m\u001b[0m\u001b[0;34m\u001b[0m\u001b[0m\n\u001b[1;32m    686\u001b[0m             \u001b[0mself\u001b[0m\u001b[0;34m.\u001b[0m\u001b[0m_parent_header\u001b[0m\u001b[0;34m,\u001b[0m\u001b[0;34m\u001b[0m\u001b[0;34m\u001b[0m\u001b[0m\n\u001b[0;32m--> 687\u001b[0;31m             \u001b[0mpassword\u001b[0m\u001b[0;34m=\u001b[0m\u001b[0;32mTrue\u001b[0m\u001b[0;34m,\u001b[0m\u001b[0;34m\u001b[0m\u001b[0;34m\u001b[0m\u001b[0m\n\u001b[0m\u001b[1;32m    688\u001b[0m         )\n\u001b[1;32m    689\u001b[0m \u001b[0;34m\u001b[0m\u001b[0m\n",
            "\u001b[0;32m/usr/local/lib/python3.6/dist-packages/ipykernel/kernelbase.py\u001b[0m in \u001b[0;36m_input_request\u001b[0;34m(self, prompt, ident, parent, password)\u001b[0m\n\u001b[1;32m    732\u001b[0m             \u001b[0;32mexcept\u001b[0m \u001b[0mKeyboardInterrupt\u001b[0m\u001b[0;34m:\u001b[0m\u001b[0;34m\u001b[0m\u001b[0;34m\u001b[0m\u001b[0m\n\u001b[1;32m    733\u001b[0m                 \u001b[0;31m# re-raise KeyboardInterrupt, to truncate traceback\u001b[0m\u001b[0;34m\u001b[0m\u001b[0;34m\u001b[0m\u001b[0;34m\u001b[0m\u001b[0m\n\u001b[0;32m--> 734\u001b[0;31m                 \u001b[0;32mraise\u001b[0m \u001b[0mKeyboardInterrupt\u001b[0m\u001b[0;34m\u001b[0m\u001b[0;34m\u001b[0m\u001b[0m\n\u001b[0m\u001b[1;32m    735\u001b[0m             \u001b[0;32melse\u001b[0m\u001b[0;34m:\u001b[0m\u001b[0;34m\u001b[0m\u001b[0;34m\u001b[0m\u001b[0m\n\u001b[1;32m    736\u001b[0m                 \u001b[0;32mbreak\u001b[0m\u001b[0;34m\u001b[0m\u001b[0;34m\u001b[0m\u001b[0m\n",
            "\u001b[0;31mKeyboardInterrupt\u001b[0m: "
          ]
        }
      ]
    },
    {
      "cell_type": "code",
      "metadata": {
        "id": "ePXx5LnL6jEx"
      },
      "source": [
        "!pip install -q pyyaml h5py"
      ],
      "execution_count": null,
      "outputs": []
    },
    {
      "cell_type": "code",
      "metadata": {
        "id": "BkpvBjJvQMXR"
      },
      "source": [
        "# from datetime import datetime\n",
        "# import tensorflow as tf\n",
        "# from tensorflow import keras\n",
        "# from keras.callbacks import TensorBoard\n",
        "# logdir=\"/content/IDD/logs/\" + datetime.now().strftime(\"%Y%m%d-%H%M%S\")\n",
        "# tensorboard_callback = TensorBoard(log_dir=logdir)\n",
        "# #tensorboard_callback = keras.callbacks.TensorBoard(log_dir=logdir)"
      ],
      "execution_count": null,
      "outputs": []
    },
    {
      "cell_type": "code",
      "metadata": {
        "id": "AAi0T1xLKUon",
        "colab": {
          "base_uri": "https://localhost:8080/",
          "height": 52
        },
        "outputId": "fe1f6442-ee6b-41b3-ca18-8d2f2fffee68"
      },
      "source": [
        "import tensorflow as tf\n",
        "import os\n",
        "from keras.callbacks import ModelCheckpoint\n",
        "# checkpoint_path = \"/content/drive/My Drive/pspnet/cp-{epoch:04d}.ckpt\"\n",
        "# checkpoint_dir = os.path.dirname(checkpoint_path)\n",
        "\n",
        "# cp_callback = ModelCheckpoint(\n",
        "#     filepath=checkpoint_path, \n",
        "#     verbose=1, \n",
        "#     save_weights_only=True,\n",
        "    # period=10)\n",
        "model = sm.PSPNet(BACKBONE,input_shape=(240,240,3),classes=8,encoder_weights='imagenet')\n",
        "model.compile(\n",
        "    'Adam',\n",
        "    loss=sm.losses.bce_jaccard_loss,\n",
        "    metrics=[sm.metrics.iou_score,dice_coef,iou_coef],\n",
        ")\n",
        "#model.summary()\n",
        "# tf.keras.utils.plot_model(\n",
        "#     model, to_file='model.png', show_shapes=False, show_layer_names=True,\n",
        "#     rankdir='TB', expand_nested=False, dpi=96\n",
        "# )"
      ],
      "execution_count": null,
      "outputs": [
        {
          "output_type": "stream",
          "text": [
            "Downloading data from https://github.com/qubvel/classification_models/releases/download/0.0.1/resnet34_imagenet_1000_no_top.h5\n",
            "85524480/85521592 [==============================] - 3s 0us/step\n"
          ],
          "name": "stdout"
        }
      ]
    },
    {
      "cell_type": "code",
      "metadata": {
        "id": "u-vB1gPPT9MV"
      },
      "source": [
        "arr = np.array(val_labels[1])\n",
        "arr = arr.reshape(1,240,240,3)\n",
        "arr2 = model.predict(arr)\n",
        "print(arr2.shape)\n",
        "arr2.reshape(240,240,8)\n",
        "print(arr2[0].shape)"
      ],
      "execution_count": null,
      "outputs": []
    },
    {
      "cell_type": "code",
      "metadata": {
        "id": "TqSgCI47oRPT"
      },
      "source": [
        "\n",
        "\n",
        "# import tensorflow_datasets as tfds\n",
        "# tfds.disable_progress_bar()\n",
        "\n",
        "# from IPython.display import clear_output\n",
        "# import matplotlib.pyplot as plt"
      ],
      "execution_count": null,
      "outputs": []
    },
    {
      "cell_type": "code",
      "metadata": {
        "id": "Prakm2V4KySh",
        "colab": {
          "base_uri": "https://localhost:8080/",
          "height": 1000
        },
        "outputId": "55f63207-307b-4e7b-8a4b-94e990aec01f"
      },
      "source": [
        "H = model.fit(\n",
        "   x=x_train,\n",
        "   y=y_train,\n",
        "   batch_size=16,\n",
        "   epochs=90,\n",
        "   validation_data=(x_val,y_val),\n",
        ")"
      ],
      "execution_count": null,
      "outputs": [
        {
          "output_type": "stream",
          "text": [
            "Train on 1403 samples, validate on 204 samples\n",
            "Epoch 1/90\n",
            "1403/1403 [==============================] - 40s 29ms/step - loss: 0.2828 - iou_score: 0.7532 - dice_coef: 0.9513 - iou_coef: 0.9075 - val_loss: 0.6718 - val_iou_score: 0.5176 - val_dice_coef: 0.8403 - val_iou_coef: 0.7302\n",
            "Epoch 2/90\n",
            "1403/1403 [==============================] - 40s 29ms/step - loss: 0.2812 - iou_score: 0.7544 - dice_coef: 0.9515 - iou_coef: 0.9079 - val_loss: 0.6760 - val_iou_score: 0.5194 - val_dice_coef: 0.8436 - val_iou_coef: 0.7354\n",
            "Epoch 3/90\n",
            "1403/1403 [==============================] - 40s 29ms/step - loss: 0.2787 - iou_score: 0.7570 - dice_coef: 0.9519 - iou_coef: 0.9087 - val_loss: 0.6828 - val_iou_score: 0.5244 - val_dice_coef: 0.8442 - val_iou_coef: 0.7370\n",
            "Epoch 4/90\n",
            "1403/1403 [==============================] - 40s 29ms/step - loss: 0.2798 - iou_score: 0.7554 - dice_coef: 0.9522 - iou_coef: 0.9091 - val_loss: 0.6763 - val_iou_score: 0.5182 - val_dice_coef: 0.8401 - val_iou_coef: 0.7308\n",
            "Epoch 5/90\n",
            "1403/1403 [==============================] - 40s 29ms/step - loss: 0.2788 - iou_score: 0.7564 - dice_coef: 0.9522 - iou_coef: 0.9092 - val_loss: 0.6769 - val_iou_score: 0.5155 - val_dice_coef: 0.8402 - val_iou_coef: 0.7310\n",
            "Epoch 6/90\n",
            "1403/1403 [==============================] - 40s 29ms/step - loss: 0.2790 - iou_score: 0.7566 - dice_coef: 0.9522 - iou_coef: 0.9091 - val_loss: 0.6685 - val_iou_score: 0.5242 - val_dice_coef: 0.8451 - val_iou_coef: 0.7376\n",
            "Epoch 7/90\n",
            "1403/1403 [==============================] - 40s 29ms/step - loss: 0.2793 - iou_score: 0.7561 - dice_coef: 0.9523 - iou_coef: 0.9092 - val_loss: 0.6703 - val_iou_score: 0.5165 - val_dice_coef: 0.8396 - val_iou_coef: 0.7296\n",
            "Epoch 8/90\n",
            "1403/1403 [==============================] - 40s 29ms/step - loss: 0.2775 - iou_score: 0.7577 - dice_coef: 0.9523 - iou_coef: 0.9093 - val_loss: 0.6882 - val_iou_score: 0.5126 - val_dice_coef: 0.8414 - val_iou_coef: 0.7327\n",
            "Epoch 9/90\n",
            "1403/1403 [==============================] - 40s 29ms/step - loss: 0.2793 - iou_score: 0.7558 - dice_coef: 0.9524 - iou_coef: 0.9095 - val_loss: 0.6857 - val_iou_score: 0.5192 - val_dice_coef: 0.8410 - val_iou_coef: 0.7326\n",
            "Epoch 10/90\n",
            "1403/1403 [==============================] - 40s 29ms/step - loss: 0.2773 - iou_score: 0.7578 - dice_coef: 0.9527 - iou_coef: 0.9101 - val_loss: 0.6761 - val_iou_score: 0.5237 - val_dice_coef: 0.8440 - val_iou_coef: 0.7360\n",
            "Epoch 11/90\n",
            "1403/1403 [==============================] - 40s 29ms/step - loss: 0.2772 - iou_score: 0.7578 - dice_coef: 0.9527 - iou_coef: 0.9100 - val_loss: 0.6807 - val_iou_score: 0.5224 - val_dice_coef: 0.8406 - val_iou_coef: 0.7308\n",
            "Epoch 12/90\n",
            "1403/1403 [==============================] - 40s 29ms/step - loss: 0.2770 - iou_score: 0.7581 - dice_coef: 0.9525 - iou_coef: 0.9098 - val_loss: 0.6761 - val_iou_score: 0.5182 - val_dice_coef: 0.8417 - val_iou_coef: 0.7334\n",
            "Epoch 13/90\n",
            "1403/1403 [==============================] - 40s 29ms/step - loss: 0.2789 - iou_score: 0.7564 - dice_coef: 0.9524 - iou_coef: 0.9095 - val_loss: 0.6765 - val_iou_score: 0.5167 - val_dice_coef: 0.8426 - val_iou_coef: 0.7339\n",
            "Epoch 14/90\n",
            "1403/1403 [==============================] - 40s 29ms/step - loss: 0.2771 - iou_score: 0.7580 - dice_coef: 0.9526 - iou_coef: 0.9098 - val_loss: 0.6864 - val_iou_score: 0.5224 - val_dice_coef: 0.8441 - val_iou_coef: 0.7371\n",
            "Epoch 15/90\n",
            "1403/1403 [==============================] - 40s 29ms/step - loss: 0.2772 - iou_score: 0.7578 - dice_coef: 0.9528 - iou_coef: 0.9103 - val_loss: 0.6867 - val_iou_score: 0.5204 - val_dice_coef: 0.8418 - val_iou_coef: 0.7334\n",
            "Epoch 16/90\n",
            "1403/1403 [==============================] - 40s 29ms/step - loss: 0.2768 - iou_score: 0.7581 - dice_coef: 0.9528 - iou_coef: 0.9102 - val_loss: 0.6995 - val_iou_score: 0.5178 - val_dice_coef: 0.8430 - val_iou_coef: 0.7351\n",
            "Epoch 17/90\n",
            "1403/1403 [==============================] - 40s 29ms/step - loss: 0.2758 - iou_score: 0.7592 - dice_coef: 0.9531 - iou_coef: 0.9107 - val_loss: 0.6724 - val_iou_score: 0.5183 - val_dice_coef: 0.8433 - val_iou_coef: 0.7349\n",
            "Epoch 18/90\n",
            "1403/1403 [==============================] - 40s 29ms/step - loss: 0.2732 - iou_score: 0.7611 - dice_coef: 0.9538 - iou_coef: 0.9119 - val_loss: 0.6677 - val_iou_score: 0.5252 - val_dice_coef: 0.8435 - val_iou_coef: 0.7353\n",
            "Epoch 19/90\n",
            "1403/1403 [==============================] - 40s 29ms/step - loss: 0.2734 - iou_score: 0.7607 - dice_coef: 0.9540 - iou_coef: 0.9124 - val_loss: 0.6766 - val_iou_score: 0.5202 - val_dice_coef: 0.8431 - val_iou_coef: 0.7349\n",
            "Epoch 20/90\n",
            "1403/1403 [==============================] - 40s 29ms/step - loss: 0.2717 - iou_score: 0.7624 - dice_coef: 0.9541 - iou_coef: 0.9126 - val_loss: 0.6882 - val_iou_score: 0.5162 - val_dice_coef: 0.8425 - val_iou_coef: 0.7339\n",
            "Epoch 21/90\n",
            "1403/1403 [==============================] - 40s 29ms/step - loss: 0.2730 - iou_score: 0.7613 - dice_coef: 0.9539 - iou_coef: 0.9121 - val_loss: 0.6754 - val_iou_score: 0.5186 - val_dice_coef: 0.8414 - val_iou_coef: 0.7323\n",
            "Epoch 22/90\n",
            "1403/1403 [==============================] - 40s 29ms/step - loss: 0.2726 - iou_score: 0.7615 - dice_coef: 0.9540 - iou_coef: 0.9125 - val_loss: 0.6862 - val_iou_score: 0.5157 - val_dice_coef: 0.8424 - val_iou_coef: 0.7335\n",
            "Epoch 23/90\n",
            "1403/1403 [==============================] - 40s 29ms/step - loss: 0.2721 - iou_score: 0.7620 - dice_coef: 0.9541 - iou_coef: 0.9125 - val_loss: 0.6778 - val_iou_score: 0.5212 - val_dice_coef: 0.8420 - val_iou_coef: 0.7333\n",
            "Epoch 24/90\n",
            "1403/1403 [==============================] - 40s 29ms/step - loss: 0.2719 - iou_score: 0.7623 - dice_coef: 0.9540 - iou_coef: 0.9124 - val_loss: 0.6808 - val_iou_score: 0.5205 - val_dice_coef: 0.8421 - val_iou_coef: 0.7336\n",
            "Epoch 25/90\n",
            "1403/1403 [==============================] - 40s 29ms/step - loss: 0.2729 - iou_score: 0.7615 - dice_coef: 0.9539 - iou_coef: 0.9123 - val_loss: 0.6927 - val_iou_score: 0.5170 - val_dice_coef: 0.8345 - val_iou_coef: 0.7225\n",
            "Epoch 26/90\n",
            "1403/1403 [==============================] - 40s 29ms/step - loss: 0.2715 - iou_score: 0.7624 - dice_coef: 0.9544 - iou_coef: 0.9132 - val_loss: 0.6859 - val_iou_score: 0.5163 - val_dice_coef: 0.8403 - val_iou_coef: 0.7310\n",
            "Epoch 27/90\n",
            "1403/1403 [==============================] - 40s 29ms/step - loss: 0.2715 - iou_score: 0.7628 - dice_coef: 0.9542 - iou_coef: 0.9128 - val_loss: 0.6961 - val_iou_score: 0.5166 - val_dice_coef: 0.8407 - val_iou_coef: 0.7320\n",
            "Epoch 28/90\n",
            "1403/1403 [==============================] - 40s 29ms/step - loss: 0.2734 - iou_score: 0.7611 - dice_coef: 0.9539 - iou_coef: 0.9122 - val_loss: 0.6913 - val_iou_score: 0.5215 - val_dice_coef: 0.8414 - val_iou_coef: 0.7328\n",
            "Epoch 29/90\n",
            "1403/1403 [==============================] - 40s 28ms/step - loss: 0.2709 - iou_score: 0.7632 - dice_coef: 0.9542 - iou_coef: 0.9128 - val_loss: 0.6827 - val_iou_score: 0.5201 - val_dice_coef: 0.8418 - val_iou_coef: 0.7327\n",
            "Epoch 30/90\n",
            "1403/1403 [==============================] - 40s 29ms/step - loss: 0.2723 - iou_score: 0.7618 - dice_coef: 0.9543 - iou_coef: 0.9130 - val_loss: 0.7024 - val_iou_score: 0.5182 - val_dice_coef: 0.8425 - val_iou_coef: 0.7344\n",
            "Epoch 31/90\n",
            "1403/1403 [==============================] - 40s 29ms/step - loss: 0.2686 - iou_score: 0.7651 - dice_coef: 0.9549 - iou_coef: 0.9141 - val_loss: 0.6792 - val_iou_score: 0.5248 - val_dice_coef: 0.8434 - val_iou_coef: 0.7349\n",
            "Epoch 32/90\n",
            "1403/1403 [==============================] - 40s 29ms/step - loss: 0.2686 - iou_score: 0.7648 - dice_coef: 0.9552 - iou_coef: 0.9145 - val_loss: 0.6870 - val_iou_score: 0.5218 - val_dice_coef: 0.8428 - val_iou_coef: 0.7346\n",
            "Epoch 33/90\n",
            "1403/1403 [==============================] - 40s 29ms/step - loss: 0.2682 - iou_score: 0.7653 - dice_coef: 0.9552 - iou_coef: 0.9146 - val_loss: 0.6914 - val_iou_score: 0.5210 - val_dice_coef: 0.8436 - val_iou_coef: 0.7360\n",
            "Epoch 34/90\n",
            "1403/1403 [==============================] - 40s 29ms/step - loss: 0.2683 - iou_score: 0.7651 - dice_coef: 0.9553 - iou_coef: 0.9148 - val_loss: 0.6873 - val_iou_score: 0.5188 - val_dice_coef: 0.8426 - val_iou_coef: 0.7344\n",
            "Epoch 35/90\n",
            "1403/1403 [==============================] - 40s 29ms/step - loss: 0.2681 - iou_score: 0.7654 - dice_coef: 0.9554 - iou_coef: 0.9149 - val_loss: 0.6942 - val_iou_score: 0.5219 - val_dice_coef: 0.8434 - val_iou_coef: 0.7351\n",
            "Epoch 36/90\n",
            "1403/1403 [==============================] - 40s 29ms/step - loss: 0.2698 - iou_score: 0.7639 - dice_coef: 0.9551 - iou_coef: 0.9143 - val_loss: 0.6771 - val_iou_score: 0.5227 - val_dice_coef: 0.8421 - val_iou_coef: 0.7335\n",
            "Epoch 37/90\n",
            "1403/1403 [==============================] - 40s 29ms/step - loss: 0.2696 - iou_score: 0.7639 - dice_coef: 0.9553 - iou_coef: 0.9148 - val_loss: 0.6921 - val_iou_score: 0.5185 - val_dice_coef: 0.8417 - val_iou_coef: 0.7331\n",
            "Epoch 38/90\n",
            "1403/1403 [==============================] - 40s 29ms/step - loss: 0.2686 - iou_score: 0.7648 - dice_coef: 0.9554 - iou_coef: 0.9149 - val_loss: 0.7129 - val_iou_score: 0.5167 - val_dice_coef: 0.8421 - val_iou_coef: 0.7339\n",
            "Epoch 39/90\n",
            "1403/1403 [==============================] - 40s 29ms/step - loss: 0.2687 - iou_score: 0.7648 - dice_coef: 0.9553 - iou_coef: 0.9148 - val_loss: 0.6787 - val_iou_score: 0.5193 - val_dice_coef: 0.8414 - val_iou_coef: 0.7324\n",
            "Epoch 40/90\n",
            "1403/1403 [==============================] - 40s 29ms/step - loss: 0.2686 - iou_score: 0.7648 - dice_coef: 0.9555 - iou_coef: 0.9151 - val_loss: 0.6992 - val_iou_score: 0.5185 - val_dice_coef: 0.8423 - val_iou_coef: 0.7337\n",
            "Epoch 41/90\n",
            "1403/1403 [==============================] - 40s 29ms/step - loss: 0.2671 - iou_score: 0.7661 - dice_coef: 0.9556 - iou_coef: 0.9153 - val_loss: 0.6832 - val_iou_score: 0.5247 - val_dice_coef: 0.8442 - val_iou_coef: 0.7367\n",
            "Epoch 42/90\n",
            "1403/1403 [==============================] - 40s 29ms/step - loss: 0.2660 - iou_score: 0.7670 - dice_coef: 0.9558 - iou_coef: 0.9157 - val_loss: 0.6815 - val_iou_score: 0.5230 - val_dice_coef: 0.8416 - val_iou_coef: 0.7325\n",
            "Epoch 43/90\n",
            "1403/1403 [==============================] - 40s 29ms/step - loss: 0.2674 - iou_score: 0.7658 - dice_coef: 0.9557 - iou_coef: 0.9155 - val_loss: 0.6906 - val_iou_score: 0.5184 - val_dice_coef: 0.8424 - val_iou_coef: 0.7335\n",
            "Epoch 44/90\n",
            "1403/1403 [==============================] - 40s 29ms/step - loss: 0.2666 - iou_score: 0.7667 - dice_coef: 0.9557 - iou_coef: 0.9154 - val_loss: 0.6906 - val_iou_score: 0.5200 - val_dice_coef: 0.8406 - val_iou_coef: 0.7317\n",
            "Epoch 45/90\n",
            "1403/1403 [==============================] - 40s 29ms/step - loss: 0.2664 - iou_score: 0.7668 - dice_coef: 0.9558 - iou_coef: 0.9157 - val_loss: 0.7029 - val_iou_score: 0.5188 - val_dice_coef: 0.8428 - val_iou_coef: 0.7345\n",
            "Epoch 46/90\n",
            "1403/1403 [==============================] - 40s 29ms/step - loss: 0.2668 - iou_score: 0.7664 - dice_coef: 0.9557 - iou_coef: 0.9156 - val_loss: 0.6995 - val_iou_score: 0.5122 - val_dice_coef: 0.8419 - val_iou_coef: 0.7331\n",
            "Epoch 47/90\n",
            "1403/1403 [==============================] - 40s 29ms/step - loss: 0.2662 - iou_score: 0.7669 - dice_coef: 0.9558 - iou_coef: 0.9157 - val_loss: 0.7027 - val_iou_score: 0.5204 - val_dice_coef: 0.8428 - val_iou_coef: 0.7343\n",
            "Epoch 48/90\n",
            "1403/1403 [==============================] - 40s 29ms/step - loss: 0.2670 - iou_score: 0.7662 - dice_coef: 0.9560 - iou_coef: 0.9160 - val_loss: 0.6975 - val_iou_score: 0.5187 - val_dice_coef: 0.8443 - val_iou_coef: 0.7370\n",
            "Epoch 49/90\n",
            "1403/1403 [==============================] - 40s 29ms/step - loss: 0.2663 - iou_score: 0.7671 - dice_coef: 0.9556 - iou_coef: 0.9154 - val_loss: 0.7168 - val_iou_score: 0.5162 - val_dice_coef: 0.8410 - val_iou_coef: 0.7326\n",
            "Epoch 50/90\n",
            "1403/1403 [==============================] - 40s 29ms/step - loss: 0.2670 - iou_score: 0.7663 - dice_coef: 0.9557 - iou_coef: 0.9155 - val_loss: 0.6854 - val_iou_score: 0.5203 - val_dice_coef: 0.8415 - val_iou_coef: 0.7325\n",
            "Epoch 51/90\n",
            "1403/1403 [==============================] - 40s 29ms/step - loss: 0.2650 - iou_score: 0.7679 - dice_coef: 0.9562 - iou_coef: 0.9164 - val_loss: 0.6943 - val_iou_score: 0.5177 - val_dice_coef: 0.8415 - val_iou_coef: 0.7329\n",
            "Epoch 52/90\n",
            "1403/1403 [==============================] - 40s 29ms/step - loss: 0.2651 - iou_score: 0.7676 - dice_coef: 0.9564 - iou_coef: 0.9168 - val_loss: 0.6904 - val_iou_score: 0.5225 - val_dice_coef: 0.8440 - val_iou_coef: 0.7362\n",
            "Epoch 53/90\n",
            "1403/1403 [==============================] - 40s 29ms/step - loss: 0.2648 - iou_score: 0.7679 - dice_coef: 0.9565 - iou_coef: 0.9170 - val_loss: 0.7017 - val_iou_score: 0.5197 - val_dice_coef: 0.8439 - val_iou_coef: 0.7364\n",
            "Epoch 54/90\n",
            "1403/1403 [==============================] - 40s 28ms/step - loss: 0.2642 - iou_score: 0.7684 - dice_coef: 0.9567 - iou_coef: 0.9174 - val_loss: 0.6983 - val_iou_score: 0.5234 - val_dice_coef: 0.8449 - val_iou_coef: 0.7379\n",
            "Epoch 55/90\n",
            "1403/1403 [==============================] - 40s 28ms/step - loss: 0.2626 - iou_score: 0.7699 - dice_coef: 0.9570 - iou_coef: 0.9178 - val_loss: 0.6873 - val_iou_score: 0.5213 - val_dice_coef: 0.8427 - val_iou_coef: 0.7344\n",
            "Epoch 56/90\n",
            "1403/1403 [==============================] - 40s 28ms/step - loss: 0.2631 - iou_score: 0.7694 - dice_coef: 0.9568 - iou_coef: 0.9174 - val_loss: 0.7063 - val_iou_score: 0.5167 - val_dice_coef: 0.8419 - val_iou_coef: 0.7332\n",
            "Epoch 57/90\n",
            "1403/1403 [==============================] - 40s 28ms/step - loss: 0.2644 - iou_score: 0.7684 - dice_coef: 0.9565 - iou_coef: 0.9169 - val_loss: 0.6925 - val_iou_score: 0.5199 - val_dice_coef: 0.8393 - val_iou_coef: 0.7293\n",
            "Epoch 58/90\n",
            "1403/1403 [==============================] - 40s 28ms/step - loss: 0.2650 - iou_score: 0.7678 - dice_coef: 0.9565 - iou_coef: 0.9170 - val_loss: 0.6992 - val_iou_score: 0.5221 - val_dice_coef: 0.8424 - val_iou_coef: 0.7345\n",
            "Epoch 59/90\n",
            "1403/1403 [==============================] - 40s 28ms/step - loss: 0.2653 - iou_score: 0.7677 - dice_coef: 0.9563 - iou_coef: 0.9167 - val_loss: 0.6926 - val_iou_score: 0.5221 - val_dice_coef: 0.8408 - val_iou_coef: 0.7319\n",
            "Epoch 60/90\n",
            "1403/1403 [==============================] - 40s 28ms/step - loss: 0.2629 - iou_score: 0.7697 - dice_coef: 0.9566 - iou_coef: 0.9172 - val_loss: 0.7028 - val_iou_score: 0.5206 - val_dice_coef: 0.8431 - val_iou_coef: 0.7353\n",
            "Epoch 61/90\n",
            "1403/1403 [==============================] - 40s 28ms/step - loss: 0.2634 - iou_score: 0.7693 - dice_coef: 0.9570 - iou_coef: 0.9178 - val_loss: 0.6955 - val_iou_score: 0.5212 - val_dice_coef: 0.8440 - val_iou_coef: 0.7364\n",
            "Epoch 62/90\n",
            "1403/1403 [==============================] - 40s 28ms/step - loss: 0.2614 - iou_score: 0.7709 - dice_coef: 0.9572 - iou_coef: 0.9182 - val_loss: 0.7033 - val_iou_score: 0.5187 - val_dice_coef: 0.8414 - val_iou_coef: 0.7329\n",
            "Epoch 63/90\n",
            "1403/1403 [==============================] - 40s 28ms/step - loss: 0.2616 - iou_score: 0.7708 - dice_coef: 0.9573 - iou_coef: 0.9184 - val_loss: 0.7094 - val_iou_score: 0.5203 - val_dice_coef: 0.8419 - val_iou_coef: 0.7332\n",
            "Epoch 64/90\n",
            "1403/1403 [==============================] - 40s 28ms/step - loss: 0.2614 - iou_score: 0.7710 - dice_coef: 0.9571 - iou_coef: 0.9180 - val_loss: 0.7012 - val_iou_score: 0.5196 - val_dice_coef: 0.8416 - val_iou_coef: 0.7331\n",
            "Epoch 65/90\n",
            "1403/1403 [==============================] - 40s 28ms/step - loss: 0.2612 - iou_score: 0.7712 - dice_coef: 0.9573 - iou_coef: 0.9183 - val_loss: 0.6946 - val_iou_score: 0.5226 - val_dice_coef: 0.8431 - val_iou_coef: 0.7348\n",
            "Epoch 66/90\n",
            "1403/1403 [==============================] - 40s 28ms/step - loss: 0.2608 - iou_score: 0.7716 - dice_coef: 0.9572 - iou_coef: 0.9181 - val_loss: 0.7012 - val_iou_score: 0.5175 - val_dice_coef: 0.8422 - val_iou_coef: 0.7343\n",
            "Epoch 67/90\n",
            "1403/1403 [==============================] - 40s 28ms/step - loss: 0.2631 - iou_score: 0.7692 - dice_coef: 0.9572 - iou_coef: 0.9182 - val_loss: 0.6995 - val_iou_score: 0.5234 - val_dice_coef: 0.8448 - val_iou_coef: 0.7374\n",
            "Epoch 68/90\n",
            "1403/1403 [==============================] - 40s 28ms/step - loss: 0.2613 - iou_score: 0.7710 - dice_coef: 0.9574 - iou_coef: 0.9186 - val_loss: 0.6837 - val_iou_score: 0.5238 - val_dice_coef: 0.8433 - val_iou_coef: 0.7349\n",
            "Epoch 69/90\n",
            "1403/1403 [==============================] - 40s 28ms/step - loss: 0.2601 - iou_score: 0.7722 - dice_coef: 0.9577 - iou_coef: 0.9191 - val_loss: 0.7047 - val_iou_score: 0.5218 - val_dice_coef: 0.8417 - val_iou_coef: 0.7329\n",
            "Epoch 70/90\n",
            "1403/1403 [==============================] - 40s 28ms/step - loss: 0.2595 - iou_score: 0.7725 - dice_coef: 0.9577 - iou_coef: 0.9192 - val_loss: 0.6949 - val_iou_score: 0.5229 - val_dice_coef: 0.8432 - val_iou_coef: 0.7348\n",
            "Epoch 71/90\n",
            "1403/1403 [==============================] - 40s 28ms/step - loss: 0.2602 - iou_score: 0.7717 - dice_coef: 0.9577 - iou_coef: 0.9192 - val_loss: 0.7168 - val_iou_score: 0.5207 - val_dice_coef: 0.8420 - val_iou_coef: 0.7337\n",
            "Epoch 72/90\n",
            "1403/1403 [==============================] - 40s 28ms/step - loss: 0.2601 - iou_score: 0.7719 - dice_coef: 0.9578 - iou_coef: 0.9193 - val_loss: 0.6968 - val_iou_score: 0.5161 - val_dice_coef: 0.8406 - val_iou_coef: 0.7319\n",
            "Epoch 73/90\n",
            "1403/1403 [==============================] - 40s 28ms/step - loss: 0.2609 - iou_score: 0.7714 - dice_coef: 0.9575 - iou_coef: 0.9187 - val_loss: 0.6978 - val_iou_score: 0.5237 - val_dice_coef: 0.8433 - val_iou_coef: 0.7348\n",
            "Epoch 74/90\n",
            "1403/1403 [==============================] - 40s 28ms/step - loss: 0.2608 - iou_score: 0.7715 - dice_coef: 0.9575 - iou_coef: 0.9188 - val_loss: 0.6891 - val_iou_score: 0.5235 - val_dice_coef: 0.8429 - val_iou_coef: 0.7341\n",
            "Epoch 75/90\n",
            "1403/1403 [==============================] - 40s 28ms/step - loss: 0.2603 - iou_score: 0.7721 - dice_coef: 0.9574 - iou_coef: 0.9186 - val_loss: 0.6972 - val_iou_score: 0.5226 - val_dice_coef: 0.8434 - val_iou_coef: 0.7355\n",
            "Epoch 76/90\n",
            "1403/1403 [==============================] - 40s 28ms/step - loss: 0.2611 - iou_score: 0.7711 - dice_coef: 0.9576 - iou_coef: 0.9189 - val_loss: 0.7010 - val_iou_score: 0.5170 - val_dice_coef: 0.8409 - val_iou_coef: 0.7317\n",
            "Epoch 77/90\n",
            "1403/1403 [==============================] - 40s 28ms/step - loss: 0.2598 - iou_score: 0.7721 - dice_coef: 0.9580 - iou_coef: 0.9196 - val_loss: 0.7090 - val_iou_score: 0.5229 - val_dice_coef: 0.8431 - val_iou_coef: 0.7349\n",
            "Epoch 78/90\n",
            "1403/1403 [==============================] - 40s 28ms/step - loss: 0.2593 - iou_score: 0.7728 - dice_coef: 0.9580 - iou_coef: 0.9198 - val_loss: 0.7008 - val_iou_score: 0.5190 - val_dice_coef: 0.8429 - val_iou_coef: 0.7349\n",
            "Epoch 79/90\n",
            "1403/1403 [==============================] - 40s 28ms/step - loss: 0.2591 - iou_score: 0.7728 - dice_coef: 0.9580 - iou_coef: 0.9196 - val_loss: 0.7034 - val_iou_score: 0.5219 - val_dice_coef: 0.8432 - val_iou_coef: 0.7350\n",
            "Epoch 80/90\n",
            "1403/1403 [==============================] - 40s 28ms/step - loss: 0.2589 - iou_score: 0.7731 - dice_coef: 0.9578 - iou_coef: 0.9194 - val_loss: 0.7111 - val_iou_score: 0.5189 - val_dice_coef: 0.8413 - val_iou_coef: 0.7325\n",
            "Epoch 81/90\n",
            "1403/1403 [==============================] - 40s 28ms/step - loss: 0.2592 - iou_score: 0.7727 - dice_coef: 0.9581 - iou_coef: 0.9199 - val_loss: 0.6966 - val_iou_score: 0.5257 - val_dice_coef: 0.8446 - val_iou_coef: 0.7372\n",
            "Epoch 82/90\n",
            "1403/1403 [==============================] - 40s 28ms/step - loss: 0.2629 - iou_score: 0.7702 - dice_coef: 0.9568 - iou_coef: 0.9174 - val_loss: 0.7218 - val_iou_score: 0.5126 - val_dice_coef: 0.8370 - val_iou_coef: 0.7260\n",
            "Epoch 83/90\n",
            "1403/1403 [==============================] - 40s 28ms/step - loss: 0.2647 - iou_score: 0.7688 - dice_coef: 0.9562 - iou_coef: 0.9165 - val_loss: 0.7316 - val_iou_score: 0.5086 - val_dice_coef: 0.8288 - val_iou_coef: 0.7152\n",
            "Epoch 84/90\n",
            "1403/1403 [==============================] - 40s 28ms/step - loss: 0.3069 - iou_score: 0.7396 - dice_coef: 0.9426 - iou_coef: 0.8928 - val_loss: 1.1387 - val_iou_score: 0.3728 - val_dice_coef: 0.7214 - val_iou_coef: 0.5725\n",
            "Epoch 85/90\n",
            "1403/1403 [==============================] - 40s 28ms/step - loss: 0.3844 - iou_score: 0.6789 - dice_coef: 0.9172 - iou_coef: 0.8484 - val_loss: 0.7911 - val_iou_score: 0.4832 - val_dice_coef: 0.8173 - val_iou_coef: 0.6993\n",
            "Epoch 86/90\n",
            "1403/1403 [==============================] - 40s 28ms/step - loss: 0.3105 - iou_score: 0.7326 - dice_coef: 0.9410 - iou_coef: 0.8892 - val_loss: 0.7015 - val_iou_score: 0.5021 - val_dice_coef: 0.8352 - val_iou_coef: 0.7242\n",
            "Epoch 87/90\n",
            "1403/1403 [==============================] - 40s 28ms/step - loss: 0.2899 - iou_score: 0.7485 - dice_coef: 0.9481 - iou_coef: 0.9017 - val_loss: 0.6844 - val_iou_score: 0.5206 - val_dice_coef: 0.8402 - val_iou_coef: 0.7313\n",
            "Epoch 88/90\n",
            "1403/1403 [==============================] - 40s 28ms/step - loss: 0.2756 - iou_score: 0.7596 - dice_coef: 0.9523 - iou_coef: 0.9094 - val_loss: 0.6685 - val_iou_score: 0.5255 - val_dice_coef: 0.8453 - val_iou_coef: 0.7386\n",
            "Epoch 89/90\n",
            "1403/1403 [==============================] - 40s 28ms/step - loss: 0.2642 - iou_score: 0.7691 - dice_coef: 0.9553 - iou_coef: 0.9148 - val_loss: 0.6786 - val_iou_score: 0.5269 - val_dice_coef: 0.8445 - val_iou_coef: 0.7374\n",
            "Epoch 90/90\n",
            "1403/1403 [==============================] - 40s 28ms/step - loss: 0.2620 - iou_score: 0.7705 - dice_coef: 0.9566 - iou_coef: 0.9172 - val_loss: 0.6846 - val_iou_score: 0.5277 - val_dice_coef: 0.8451 - val_iou_coef: 0.7385\n"
          ],
          "name": "stdout"
        }
      ]
    },
    {
      "cell_type": "code",
      "metadata": {
        "id": "5Etx0SqX1k8F",
        "colab": {
          "base_uri": "https://localhost:8080/",
          "height": 294
        },
        "outputId": "619793fc-951b-4705-c5bd-ad486c7d98e6"
      },
      "source": [
        "\n",
        "import matplotlib.pyplot as plt\n",
        "\n",
        "plt.plot(H.history['iou_coef'])\n",
        "plt.plot(H.history['val_iou_coef'])\n",
        "plt.title('Unet Mean IOU')\n",
        "plt.ylabel('IOU')\n",
        "plt.xlabel('epoch')\n",
        "plt.legend(['train', 'test'], loc='upper left')\n",
        "plt.show()"
      ],
      "execution_count": null,
      "outputs": [
        {
          "output_type": "display_data",
          "data": {
            "image/png": "[encoded data removed]",
            "text/plain": [
              "<Figure size 432x288 with 1 Axes>"
            ]
          },
          "metadata": {
            "tags": [],
            "needs_background": "light"
          }
        }
      ]
    },
    {
      "cell_type": "code",
      "metadata": {
        "id": "QxgWjzyT1orH",
        "colab": {
          "base_uri": "https://localhost:8080/",
          "height": 294
        },
        "outputId": "c06d5baf-bc18-426a-c31c-f5758b2f03f9"
      },
      "source": [
        "plt.plot(H.history['loss'])\n",
        "plt.plot(H.history['val_loss'])\n",
        "plt.title('UNET loss')\n",
        "plt.ylabel('loss')\n",
        "plt.xlabel('epoch')\n",
        "plt.legend(['train', 'test'], loc='upper left')\n",
        "plt.show()"
      ],
      "execution_count": null,
      "outputs": [
        {
          "output_type": "display_data",
          "data": {
            "image/png": "[encoded data removed]",
            "text/plain": [
              "<Figure size 432x288 with 1 Axes>"
            ]
          },
          "metadata": {
            "tags": [],
            "needs_background": "light"
          }
        }
      ]
    },
    {
      "cell_type": "markdown",
      "metadata": {
        "id": "NA7tjpTYVvGU"
      },
      "source": [
        "Prediction"
      ]
    },
    {
      "cell_type": "code",
      "metadata": {
        "id": "OkqxgPcp1X9J",
        "colab": {
          "base_uri": "https://localhost:8080/",
          "height": 122
        },
        "outputId": "15672eb5-ee25-492c-a5b1-e55e9531fbfc"
      },
      "source": [
        "from google.colab import drive\n",
        "drive.mount('/content/drive')"
      ],
      "execution_count": null,
      "outputs": [
        {
          "output_type": "stream",
          "text": [
            "Go to this URL in a browser: https://accounts.google.com/o/oauth2/auth?client_id=947318989803-6bn6qk8qdgf4n4g3pfee6491hc0brc4i.apps.googleusercontent.com&redirect_uri=urn%3aietf%3awg%3aoauth%3a2.0%3aoob&response_type=code&scope=email%20https%3a%2f%2fwww.googleapis.com%2fauth%2fdocs.test%20https%3a%2f%2fwww.googleapis.com%2fauth%2fdrive%20https%3a%2f%2fwww.googleapis.com%2fauth%2fdrive.photos.readonly%20https%3a%2f%2fwww.googleapis.com%2fauth%2fpeopleapi.readonly\n",
            "\n",
            "Enter your authorization code:\n",
            "··········\n",
            "Mounted at /content/drive\n"
          ],
          "name": "stdout"
        }
      ]
    },
    {
      "cell_type": "code",
      "metadata": {
        "id": "fANEJR-bN9tM",
        "colab": {
          "base_uri": "https://localhost:8080/",
          "height": 51
        },
        "outputId": "0851eeb9-e8a0-4205-c651-2e3ab6179b90"
      },
      "source": [
        "%cd /content/drive/My Drive\n",
        "#%cd pspnet_checkpoints/training_2/\n",
        "%cd pspnet"
      ],
      "execution_count": null,
      "outputs": [
        {
          "output_type": "stream",
          "text": [
            "/content/drive/My Drive\n",
            "/content/drive/My Drive/pspnet\n"
          ],
          "name": "stdout"
        }
      ]
    },
    {
      "cell_type": "code",
      "metadata": {
        "id": "pHPlvFW8T1WH",
        "colab": {
          "base_uri": "https://localhost:8080/",
          "height": 51
        },
        "outputId": "3dc3cd6e-7675-4b03-9f16-a6fe0166d48d"
      },
      "source": [
        "model = sm.PSPNet(BACKBONE,input_shape=(240,240,3),classes=8,encoder_weights='imagenet')\n",
        "model.load_weights('cp-0080.ckpt')"
      ],
      "execution_count": null,
      "outputs": [
        {
          "output_type": "stream",
          "text": [
            "Downloading data from https://github.com/qubvel/classification_models/releases/download/0.0.1/resnet34_imagenet_1000_no_top.h5\n",
            "85524480/85521592 [==============================] - 6s 0us/step\n"
          ],
          "name": "stdout"
        }
      ]
    },
    {
      "cell_type": "code",
      "metadata": {
        "id": "JOfpqiZuP3C7"
      },
      "source": [
        "test_path= paths.list_images(\"/content/IDD/idd20k_lite/leftImg8bit/test\")\n",
        "test_path=sorted(test_path)\n",
        "test_images_final = []\n",
        "test_images_name = []\n",
        "import os\n",
        "for imagePath in test_path:\n",
        "  image=cv2.imread(imagePath)\n",
        "  image = cv2.resize(image,(240,240),interpolation=cv2.INTER_NEAREST)\n",
        "  #print(imagePath)\n",
        "  make = imagePath.split(\"/\")[-1]\n",
        "  filename = make[:make.rfind(\"_\")]\n",
        "  #print(filename)\n",
        "  make1=imagePath.split(\"/\")[-2]  \n",
        "  directory=\"output/\"+ make1\n",
        "  if not os.path.exists(directory):\n",
        "    os.makedirs(directory)\n",
        "  image_name = \"output/\"+ make1+\"/\"+filename+\"_label.png\"\n",
        "  test_images_final.append(image)\n",
        "  test_images_name.append(image_name)\n",
        "test_images_final = np.array(test_images_final)"
      ],
      "execution_count": null,
      "outputs": []
    },
    {
      "cell_type": "code",
      "metadata": {
        "id": "v3h_4dlNSrQ9"
      },
      "source": [
        "output = model.predict(test_images_final, batch_size=16,verbose=0)\n",
        "output = output.reshape(output.shape[0],240,240,8)"
      ],
      "execution_count": null,
      "outputs": []
    },
    {
      "cell_type": "code",
      "metadata": {
        "id": "E5trf00QQoAl"
      },
      "source": [
        "for i in range(output.shape[0]):\n",
        "  sample_pred = np.argmax(output[i],axis=-1)\n",
        "  sample_pred[sample_pred == 7] = 255\n",
        "  cv2.imwrite(test_images_name[i],sample_pred)"
      ],
      "execution_count": null,
      "outputs": []
    },
    {
      "cell_type": "code",
      "metadata": {
        "id": "28wY9z2ORaM2"
      },
      "source": [
        "import numpy as np\n",
        "colors = np.array([\n",
        "    [128, 64, 18],      # (brown)Drivable\n",
        "    [244, 35, 232],     # (pinkish-purple)Non Drivable\n",
        "    [220, 20, 60],      # (red)Living Things\n",
        "    [0, 0, 230],        # (blue)Vehicles\n",
        "    [220, 190, 40],     # (yellow)Road Side Objects\n",
        "    [70, 70, 70],       # (gray)Far Objects\n",
        "    [70, 130, 180],     # (sky colour)Sky\n",
        "    [0, 0, 0]           # (black)Misc\n",
        "], dtype=np.int)\n",
        "\n",
        "def visualize(temp, plot=True):\n",
        "    #r,g,b =cv2.split(temp)\n",
        "    r=temp\n",
        "    color_image = np.zeros(\n",
        "        (r.shape[0], r.shape[1], 3), dtype=np.int)\n",
        "    for i in range(7):\n",
        "        color_image[r == i] = colors[i]\n",
        "\n",
        "    color_image[r == 255] = colors[7]\n",
        "    #plt.imshow(image_frame)\n",
        "    plt.imshow(color_image)\n",
        "    plt.show()"
      ],
      "execution_count": null,
      "outputs": []
    },
    {
      "cell_type": "code",
      "metadata": {
        "id": "Q0hk0t21S2j0",
        "colab": {
          "base_uri": "https://localhost:8080/",
          "height": 286
        },
        "outputId": "7d4805df-eebd-4ba8-b205-444fd7e14ce8"
      },
      "source": [
        "sample_image = test_images_final[8]\n",
        "from matplotlib import pyplot as plt\n",
        "import imutils\n",
        "plt.figure(\"original_image\")\n",
        "plt.imshow(imutils.opencv2matplotlib(sample_image))"
      ],
      "execution_count": null,
      "outputs": [
        {
          "output_type": "execute_result",
          "data": {
            "text/plain": [
              "<matplotlib.image.AxesImage at 0x7fa865288240>"
            ]
          },
          "metadata": {
            "tags": []
          },
          "execution_count": 17
        },
        {
          "output_type": "display_data",
          "data": {
            "image/png": "[encoded data removed]",
            "text/plain": [
              "<Figure size 432x288 with 1 Axes>"
            ]
          },
          "metadata": {
            "tags": [],
            "needs_background": "light"
          }
        }
      ]
    },
    {
      "cell_type": "code",
      "metadata": {
        "id": "FnFza15aRcmN",
        "colab": {
          "base_uri": "https://localhost:8080/",
          "height": 269
        },
        "outputId": "95547d4d-b408-4d5e-eff4-4086070c690e"
      },
      "source": [
        "sample_pred1 = np.argmax(output[3],axis=-1)\n",
        "sample_pred1[sample_pred1 == 7] = 255\n",
        "visualize(sample_pred1)"
      ],
      "execution_count": null,
      "outputs": [
        {
          "output_type": "display_data",
          "data": {
            "image/png": "[encoded data removed]",
            "text/plain": [
              "<Figure size 432x288 with 1 Axes>"
            ]
          },
          "metadata": {
            "tags": [],
            "needs_background": "light"
          }
        }
      ]
    },
    {
      "cell_type": "code",
      "metadata": {
        "id": "8dU5Mf63jT7E",
        "colab": {
          "base_uri": "https://localhost:8080/",
          "height": 34
        },
        "outputId": "40f35d5f-9584-43bd-f311-02a455893fbf"
      },
      "source": [
        "output2 = model.predict(val_images, batch_size=16,verbose=0)\n",
        "output2 = output2.reshape(output2.shape[0],240,240,8)\n",
        "print(output2.shape)\n",
        "sample_pred2 = np.argmax(output2,axis=-1)\n",
        "sample_pred2[sample_pred2 == 7] = 255"
      ],
      "execution_count": null,
      "outputs": [
        {
          "output_type": "stream",
          "text": [
            "(204, 240, 240, 8)\n"
          ],
          "name": "stdout"
        }
      ]
    },
    {
      "cell_type": "code",
      "metadata": {
        "id": "UvAvvNqujJ7a"
      },
      "source": [
        "def IoU(Yi,y_predi):\n",
        "    ## mean Intersection over Union\n",
        "    ## Mean IoU = TP/(FN + TP + FP)\n",
        "\n",
        "    IoUs = []\n",
        "    Nclass = 7\n",
        "    for c in range(Nclass):\n",
        "        TP = np.sum( (Yi == c)&(y_predi==c) )\n",
        "        FP = np.sum( (Yi != c)&(y_predi==c) )\n",
        "        FN = np.sum( (Yi == c)&(y_predi != c)) \n",
        "        IoU = TP/float(TP + FP + FN)\n",
        "        precision = TP/(TP+FP)\n",
        "        recall = TP/(TP+FN)\n",
        "        f1 = 2*((precision*recall)/(precision+recall))\n",
        "        print(\"class {:02.0f}: #TP={:6.0f}, #FP={:6.0f}, #FN={:5.0f},precision={:4.3f},recall={:4.3f},f1={:4.3f}\".format(c,TP,FP,FN,precision,recall,f1))\n",
        "        IoUs.append(f1)\n",
        "    mIoU = np.mean(IoUs)\n",
        "    print(\"_________________\")\n",
        "    print(\"F!: {:4.3f}\".format(f1))"
      ],
      "execution_count": null,
      "outputs": []
    },
    {
      "cell_type": "code",
      "metadata": {
        "id": "vX2LlQRRjP0D",
        "colab": {
          "base_uri": "https://localhost:8080/",
          "height": 163
        },
        "outputId": "7bcaa5d6-7370-4164-992f-3d17e797c8cb"
      },
      "source": [
        "IoU(np.argmax(val_labels_conv,axis=-1),sample_pred2)"
      ],
      "execution_count": null,
      "outputs": [
        {
          "output_type": "error",
          "ename": "NameError",
          "evalue": "ignored",
          "traceback": [
            "\u001b[0;31m---------------------------------------------------------------------------\u001b[0m",
            "\u001b[0;31mNameError\u001b[0m                                 Traceback (most recent call last)",
            "\u001b[0;32m<ipython-input-1-cf9b047f0434>\u001b[0m in \u001b[0;36m<module>\u001b[0;34m()\u001b[0m\n\u001b[0;32m----> 1\u001b[0;31m \u001b[0mIoU\u001b[0m\u001b[0;34m(\u001b[0m\u001b[0mnp\u001b[0m\u001b[0;34m.\u001b[0m\u001b[0margmax\u001b[0m\u001b[0;34m(\u001b[0m\u001b[0mval_labels_conv\u001b[0m\u001b[0;34m,\u001b[0m\u001b[0maxis\u001b[0m\u001b[0;34m=\u001b[0m\u001b[0;34m-\u001b[0m\u001b[0;36m1\u001b[0m\u001b[0;34m)\u001b[0m\u001b[0;34m,\u001b[0m\u001b[0msample_pred2\u001b[0m\u001b[0;34m)\u001b[0m\u001b[0;34m\u001b[0m\u001b[0;34m\u001b[0m\u001b[0m\n\u001b[0m",
            "\u001b[0;31mNameError\u001b[0m: name 'IoU' is not defined"
          ]
        }
      ]
    }
  ]
}